{
 "cells": [
  {
   "cell_type": "code",
   "execution_count": 1,
   "metadata": {},
   "outputs": [],
   "source": [
    "import numpy as np"
   ]
  },
  {
   "cell_type": "code",
   "execution_count": 2,
   "metadata": {},
   "outputs": [],
   "source": [
    "x = np.array([[2, 5, 9, 10],\n",
    "              [0, -8, 3, -3]])\n",
    "y = np.array([[-6, 7, 1, -3],\n",
    "              [-3, 7, 9, 0],\n",
    "              [-6, 10, 10, -5]])"
   ]
  },
  {
   "cell_type": "code",
   "execution_count": 3,
   "metadata": {},
   "outputs": [],
   "source": [
    "array = np.zeros((len(x),len(y)))\n",
    "for i in range(len(x)):\n",
    "    abs_x = np.linalg.norm(x[i])\n",
    "    for j in range(len(y)):\n",
    "        abs_y = np.linalg.norm(y[j])\n",
    "        value = (x[i] @ y[j]) / (abs_x * abs_y)\n",
    "        array[i,j] = value"
   ]
  },
  {
   "cell_type": "markdown",
   "metadata": {},
   "source": [
    "-------------------"
   ]
  },
  {
   "cell_type": "code",
   "execution_count": 1,
   "metadata": {},
   "outputs": [],
   "source": [
    "from embeddings import *\n",
    "from test_analogies import *"
   ]
  },
  {
   "cell_type": "code",
   "execution_count": 2,
   "metadata": {},
   "outputs": [],
   "source": [
    "# Load embeddings from a file\n",
    "embeddings = Embeddings.from_file(\"data/glove_50d.txt\")"
   ]
  },
  {
   "cell_type": "code",
   "execution_count": 6,
   "metadata": {},
   "outputs": [
    {
     "data": {
      "text/plain": [
       "array([[ 0.50451 ,  0.68607 , -0.59517 , -0.022801,  0.60046 , -0.13498 ,\n",
       "        -0.08813 ,  0.47377 , -0.61798 , -0.31012 , -0.076666,  1.493   ,\n",
       "        -0.034189, -0.98173 ,  0.68229 ,  0.81722 , -0.51874 , -0.31503 ,\n",
       "        -0.55809 ,  0.66421 ,  0.1961  , -0.13495 , -0.11476 , -0.30344 ,\n",
       "         0.41177 , -2.223   , -1.0756  , -1.0783  , -0.34354 ,  0.33505 ,\n",
       "         1.9927  , -0.04234 , -0.64319 ,  0.71125 ,  0.49159 ,  0.16754 ,\n",
       "         0.34344 , -0.25663 , -0.8523  ,  0.1661  ,  0.40102 ,  1.1685  ,\n",
       "        -1.0137  , -0.21585 , -0.15155 ,  0.78321 , -0.91241 , -1.6106  ,\n",
       "        -0.64426 , -0.51042 ]], dtype=float32)"
      ]
     },
     "execution_count": 6,
     "metadata": {},
     "output_type": "execute_result"
    }
   ],
   "source": [
    "word = embeddings[['king']]\n",
    "word"
   ]
  },
  {
   "cell_type": "code",
   "execution_count": 7,
   "metadata": {},
   "outputs": [
    {
     "name": "stdout",
     "output_type": "stream",
     "text": [
      "Top 4 closest words to 'king': [('king', array([[1.00000012]])), ('prince', array([[0.82361799]])), ('queen', array([[0.78390437]])), ('ii', array([[0.77462304]]))]\n",
      "['king', 'prince', 'queen', 'ii']\n"
     ]
    }
   ],
   "source": [
    "vecs = []\n",
    "get_closest_words = []\n",
    "\n",
    "for e in embeddings.words:\n",
    "    cos_sim = cosine_sim(word,embeddings[[e]])\n",
    "    vecs.append((e, cos_sim))\n",
    "# Sort by similarity and get top 4\n",
    "top_4 = sorted(vecs,key=lambda x: x[1], reverse=True)[:4]\n",
    "get_closest_words = [word for word, _ in top_4]\n",
    "print(\"Top 4 closest words to 'king':\", top_4)\n",
    "print(get_closest_words)\n"
   ]
  },
  {
   "cell_type": "code",
   "execution_count": 8,
   "metadata": {},
   "outputs": [],
   "source": [
    "vectors = embeddings[\"king\", \"man\", \"woman\"]"
   ]
  },
  {
   "cell_type": "code",
   "execution_count": 9,
   "metadata": {},
   "outputs": [
    {
     "name": "stdout",
     "output_type": "stream",
     "text": [
      "(50,)\n",
      "(50,)\n",
      "(50,)\n"
     ]
    }
   ],
   "source": [
    "for vec in vectors:\n",
    "    vec.reshape(1,-1)\n",
    "    print(vec.shape)"
   ]
  },
  {
   "cell_type": "code",
   "execution_count": 10,
   "metadata": {},
   "outputs": [
    {
     "name": "stdout",
     "output_type": "stream",
     "text": [
      "[['king', 'prince', 'queen', 'ii'], ['man', 'woman', 'boy', 'another'], ['woman', 'girl', 'man', 'mother']]\n"
     ]
    }
   ],
   "source": [
    "closest_words = []\n",
    "for vector in vectors: # iterating over vector array\n",
    "    vecs = [] # We need to store the top 4 words for each vector\n",
    "    vector = vector.reshape(1,-1)# Shaping the vector a 2D array for correct computation\n",
    "    for e in embeddings.words:\n",
    "        cos_sim_val = cosine_sim(vector, embeddings[[e]])\n",
    "        vecs.append((e, cos_sim_val))\n",
    "    # Sorting for top 4 neighbors\n",
    "    top_4 = sorted(vecs,key=lambda x: x[1], reverse=True)[:4]\n",
    "    get_closest_words = [word for word, _ in top_4]\n",
    "    closest_words.append(get_closest_words)\n",
    "print(closest_words)"
   ]
  },
  {
   "cell_type": "markdown",
   "metadata": {},
   "source": [
    "-----------"
   ]
  },
  {
   "cell_type": "code",
   "execution_count": 11,
   "metadata": {},
   "outputs": [
    {
     "data": {
      "text/plain": [
       "array([[ 0.41736597,  0.90427005, -1.0050299 , -0.06202102,  0.49725997,\n",
       "         0.80667007, -0.14855   ,  0.80365   , -0.15653998, -0.66973996,\n",
       "         0.23435399,  0.62476   ,  0.925871  , -0.97099996,  0.92566   ,\n",
       "         0.89915   , -1.54596   , -0.52625   ,  0.13695401,  0.66199005,\n",
       "         0.4871601 ,  0.37035   , -0.214214  ,  0.10100996,  0.71358   ,\n",
       "        -2.0874999 , -1.1362001 , -1.1496099 , -0.53599   ,  0.27389997,\n",
       "         1.6723    ,  0.02930999, -0.77656007,  0.46056286,  0.34866   ,\n",
       "        -0.05741701,  0.19444   , -0.207748  , -0.73038995, -0.10751998,\n",
       "         0.235544  ,  0.96423995, -0.46993998, -0.48727497, -0.25399995,\n",
       "         0.4621299 , -0.66081   , -1.9451499 , -0.68797004, -0.49784005]],\n",
       "      dtype=float32)"
      ]
     },
     "execution_count": 11,
     "metadata": {},
     "output_type": "execute_result"
    }
   ],
   "source": [
    "vecs = embeddings[\"king\", \"man\", \"woman\"]\n",
    "queen = vecs[0:1] - vecs[1:2] + vecs[2:3]\n",
    "queen"
   ]
  },
  {
   "cell_type": "markdown",
   "metadata": {},
   "source": [
    "-----------"
   ]
  },
  {
   "cell_type": "code",
   "execution_count": 12,
   "metadata": {},
   "outputs": [
    {
     "data": {
      "text/plain": [
       "dict_keys(['capital-common-countries'])"
      ]
     },
     "execution_count": 12,
     "metadata": {},
     "output_type": "execute_result"
    }
   ],
   "source": [
    "test_data = load_analogies(\"data/analogies_test.txt\")\n",
    "test_data.keys()"
   ]
  },
  {
   "cell_type": "code",
   "execution_count": null,
   "metadata": {},
   "outputs": [
    {
     "name": "stdout",
     "output_type": "stream",
     "text": [
      "athens greece baghdad iraq\n",
      "athens greece bangkok thailand\n",
      "athens greece beijing china\n",
      "athens greece berlin germany\n",
      "athens greece bern switzerland\n",
      "athens greece cairo egypt\n",
      "athens greece canberra australia\n",
      "athens greece hanoi vietnam\n",
      "athens greece havana cuba\n",
      "athens greece helsinki finland\n",
      "athens greece islamabad pakistan\n",
      "athens greece kabul afghanistan\n",
      "athens greece london england\n",
      "athens greece madrid spain\n",
      "athens greece moscow russia\n",
      "athens greece oslo norway\n",
      "athens greece ottawa canada\n",
      "athens greece paris france\n",
      "athens greece rome italy\n",
      "athens greece stockholm sweden\n",
      "athens greece tehran iran\n",
      "athens greece tokyo japan\n",
      "baghdad iraq bangkok thailand\n",
      "baghdad iraq beijing china\n",
      "baghdad iraq berlin germany\n",
      "baghdad iraq bern switzerland\n",
      "baghdad iraq cairo egypt\n",
      "baghdad iraq canberra australia\n",
      "baghdad iraq hanoi vietnam\n",
      "baghdad iraq havana cuba\n",
      "baghdad iraq helsinki finland\n",
      "baghdad iraq islamabad pakistan\n",
      "baghdad iraq kabul afghanistan\n",
      "baghdad iraq london england\n",
      "baghdad iraq madrid spain\n",
      "baghdad iraq moscow russia\n",
      "baghdad iraq oslo norway\n",
      "baghdad iraq ottawa canada\n",
      "baghdad iraq paris france\n",
      "baghdad iraq rome italy\n",
      "baghdad iraq stockholm sweden\n",
      "baghdad iraq tehran iran\n",
      "baghdad iraq tokyo japan\n",
      "baghdad iraq athens greece\n",
      "bangkok thailand beijing china\n",
      "bangkok thailand berlin germany\n",
      "bangkok thailand bern switzerland\n",
      "bangkok thailand cairo egypt\n",
      "bangkok thailand canberra australia\n",
      "bangkok thailand hanoi vietnam\n",
      "bangkok thailand havana cuba\n",
      "bangkok thailand helsinki finland\n",
      "bangkok thailand islamabad pakistan\n",
      "bangkok thailand kabul afghanistan\n",
      "bangkok thailand london england\n",
      "bangkok thailand madrid spain\n",
      "bangkok thailand moscow russia\n",
      "bangkok thailand oslo norway\n",
      "bangkok thailand ottawa canada\n",
      "bangkok thailand paris france\n",
      "bangkok thailand rome italy\n",
      "bangkok thailand stockholm sweden\n",
      "bangkok thailand tehran iran\n",
      "bangkok thailand tokyo japan\n",
      "bangkok thailand athens greece\n",
      "bangkok thailand baghdad iraq\n",
      "beijing china berlin germany\n",
      "beijing china bern switzerland\n",
      "beijing china cairo egypt\n",
      "beijing china canberra australia\n",
      "beijing china hanoi vietnam\n",
      "beijing china havana cuba\n",
      "beijing china helsinki finland\n",
      "beijing china islamabad pakistan\n",
      "beijing china kabul afghanistan\n",
      "beijing china london england\n",
      "beijing china madrid spain\n",
      "beijing china moscow russia\n",
      "beijing china oslo norway\n",
      "beijing china ottawa canada\n",
      "beijing china paris france\n",
      "beijing china rome italy\n",
      "beijing china stockholm sweden\n",
      "beijing china tehran iran\n",
      "beijing china tokyo japan\n",
      "beijing china athens greece\n",
      "beijing china baghdad iraq\n",
      "beijing china bangkok thailand\n",
      "berlin germany bern switzerland\n",
      "berlin germany cairo egypt\n",
      "berlin germany canberra australia\n",
      "berlin germany hanoi vietnam\n",
      "berlin germany havana cuba\n",
      "berlin germany helsinki finland\n",
      "berlin germany islamabad pakistan\n",
      "berlin germany kabul afghanistan\n",
      "berlin germany london england\n",
      "berlin germany madrid spain\n",
      "berlin germany moscow russia\n",
      "berlin germany oslo norway\n",
      "berlin germany ottawa canada\n",
      "berlin germany paris france\n",
      "berlin germany rome italy\n",
      "berlin germany stockholm sweden\n",
      "berlin germany tehran iran\n",
      "berlin germany tokyo japan\n",
      "berlin germany athens greece\n",
      "berlin germany baghdad iraq\n",
      "berlin germany bangkok thailand\n",
      "berlin germany beijing china\n",
      "bern switzerland cairo egypt\n",
      "bern switzerland canberra australia\n",
      "bern switzerland hanoi vietnam\n",
      "bern switzerland havana cuba\n",
      "bern switzerland helsinki finland\n",
      "bern switzerland islamabad pakistan\n",
      "bern switzerland kabul afghanistan\n",
      "bern switzerland london england\n",
      "bern switzerland madrid spain\n",
      "bern switzerland moscow russia\n",
      "bern switzerland oslo norway\n",
      "bern switzerland ottawa canada\n",
      "bern switzerland paris france\n",
      "bern switzerland rome italy\n",
      "bern switzerland stockholm sweden\n",
      "bern switzerland tehran iran\n",
      "bern switzerland tokyo japan\n",
      "bern switzerland athens greece\n",
      "bern switzerland baghdad iraq\n",
      "bern switzerland bangkok thailand\n",
      "bern switzerland beijing china\n",
      "bern switzerland berlin germany\n",
      "cairo egypt canberra australia\n",
      "cairo egypt hanoi vietnam\n",
      "cairo egypt havana cuba\n",
      "cairo egypt helsinki finland\n",
      "cairo egypt islamabad pakistan\n",
      "cairo egypt kabul afghanistan\n",
      "cairo egypt london england\n",
      "cairo egypt madrid spain\n",
      "cairo egypt moscow russia\n",
      "cairo egypt oslo norway\n",
      "cairo egypt ottawa canada\n",
      "cairo egypt paris france\n",
      "cairo egypt rome italy\n",
      "cairo egypt stockholm sweden\n",
      "cairo egypt tehran iran\n",
      "cairo egypt tokyo japan\n",
      "cairo egypt athens greece\n",
      "cairo egypt baghdad iraq\n",
      "cairo egypt bangkok thailand\n",
      "cairo egypt beijing china\n",
      "cairo egypt berlin germany\n",
      "cairo egypt bern switzerland\n",
      "canberra australia hanoi vietnam\n",
      "canberra australia havana cuba\n",
      "canberra australia helsinki finland\n",
      "canberra australia islamabad pakistan\n",
      "canberra australia kabul afghanistan\n",
      "canberra australia london england\n",
      "canberra australia madrid spain\n",
      "canberra australia moscow russia\n",
      "canberra australia oslo norway\n",
      "canberra australia ottawa canada\n",
      "canberra australia paris france\n",
      "canberra australia rome italy\n",
      "canberra australia stockholm sweden\n",
      "canberra australia tehran iran\n",
      "canberra australia tokyo japan\n",
      "canberra australia athens greece\n",
      "canberra australia baghdad iraq\n",
      "canberra australia bangkok thailand\n",
      "canberra australia beijing china\n",
      "canberra australia berlin germany\n",
      "canberra australia bern switzerland\n",
      "canberra australia cairo egypt\n",
      "hanoi vietnam havana cuba\n",
      "hanoi vietnam helsinki finland\n",
      "hanoi vietnam islamabad pakistan\n",
      "hanoi vietnam kabul afghanistan\n",
      "hanoi vietnam london england\n",
      "hanoi vietnam madrid spain\n",
      "hanoi vietnam moscow russia\n",
      "hanoi vietnam oslo norway\n",
      "hanoi vietnam ottawa canada\n",
      "hanoi vietnam paris france\n",
      "hanoi vietnam rome italy\n",
      "hanoi vietnam stockholm sweden\n",
      "hanoi vietnam tehran iran\n",
      "hanoi vietnam tokyo japan\n",
      "hanoi vietnam athens greece\n",
      "hanoi vietnam baghdad iraq\n",
      "hanoi vietnam bangkok thailand\n",
      "hanoi vietnam beijing china\n",
      "hanoi vietnam berlin germany\n",
      "hanoi vietnam bern switzerland\n",
      "hanoi vietnam cairo egypt\n",
      "hanoi vietnam canberra australia\n",
      "havana cuba helsinki finland\n",
      "havana cuba islamabad pakistan\n",
      "havana cuba kabul afghanistan\n",
      "havana cuba london england\n",
      "havana cuba madrid spain\n",
      "havana cuba moscow russia\n",
      "havana cuba oslo norway\n",
      "havana cuba ottawa canada\n",
      "havana cuba paris france\n",
      "havana cuba rome italy\n",
      "havana cuba stockholm sweden\n",
      "havana cuba tehran iran\n",
      "havana cuba tokyo japan\n",
      "havana cuba athens greece\n",
      "havana cuba baghdad iraq\n",
      "havana cuba bangkok thailand\n",
      "havana cuba beijing china\n",
      "havana cuba berlin germany\n",
      "havana cuba bern switzerland\n",
      "havana cuba cairo egypt\n",
      "havana cuba canberra australia\n",
      "havana cuba hanoi vietnam\n",
      "helsinki finland islamabad pakistan\n",
      "helsinki finland kabul afghanistan\n",
      "helsinki finland london england\n",
      "helsinki finland madrid spain\n",
      "helsinki finland moscow russia\n",
      "helsinki finland oslo norway\n",
      "helsinki finland ottawa canada\n",
      "helsinki finland paris france\n",
      "helsinki finland rome italy\n",
      "helsinki finland stockholm sweden\n",
      "helsinki finland tehran iran\n",
      "helsinki finland tokyo japan\n",
      "helsinki finland athens greece\n",
      "helsinki finland baghdad iraq\n",
      "helsinki finland bangkok thailand\n",
      "helsinki finland beijing china\n",
      "helsinki finland berlin germany\n",
      "helsinki finland bern switzerland\n",
      "helsinki finland cairo egypt\n",
      "helsinki finland canberra australia\n",
      "helsinki finland hanoi vietnam\n",
      "helsinki finland havana cuba\n",
      "islamabad pakistan kabul afghanistan\n",
      "islamabad pakistan london england\n",
      "islamabad pakistan madrid spain\n",
      "islamabad pakistan moscow russia\n",
      "islamabad pakistan oslo norway\n",
      "islamabad pakistan ottawa canada\n",
      "islamabad pakistan paris france\n",
      "islamabad pakistan rome italy\n",
      "islamabad pakistan stockholm sweden\n",
      "islamabad pakistan tehran iran\n",
      "islamabad pakistan tokyo japan\n",
      "islamabad pakistan athens greece\n",
      "islamabad pakistan baghdad iraq\n",
      "islamabad pakistan bangkok thailand\n",
      "islamabad pakistan beijing china\n",
      "islamabad pakistan berlin germany\n",
      "islamabad pakistan bern switzerland\n",
      "islamabad pakistan cairo egypt\n",
      "islamabad pakistan canberra australia\n",
      "islamabad pakistan hanoi vietnam\n",
      "islamabad pakistan havana cuba\n",
      "islamabad pakistan helsinki finland\n",
      "kabul afghanistan london england\n",
      "kabul afghanistan madrid spain\n",
      "kabul afghanistan moscow russia\n",
      "kabul afghanistan oslo norway\n",
      "kabul afghanistan ottawa canada\n",
      "kabul afghanistan paris france\n",
      "kabul afghanistan rome italy\n",
      "kabul afghanistan stockholm sweden\n",
      "kabul afghanistan tehran iran\n",
      "kabul afghanistan tokyo japan\n",
      "kabul afghanistan athens greece\n",
      "kabul afghanistan baghdad iraq\n",
      "kabul afghanistan bangkok thailand\n",
      "kabul afghanistan beijing china\n",
      "kabul afghanistan berlin germany\n",
      "kabul afghanistan bern switzerland\n",
      "kabul afghanistan cairo egypt\n",
      "kabul afghanistan canberra australia\n",
      "kabul afghanistan hanoi vietnam\n",
      "kabul afghanistan havana cuba\n",
      "kabul afghanistan helsinki finland\n",
      "kabul afghanistan islamabad pakistan\n",
      "london england madrid spain\n",
      "london england moscow russia\n",
      "london england oslo norway\n",
      "london england ottawa canada\n",
      "london england paris france\n",
      "london england rome italy\n",
      "london england stockholm sweden\n",
      "london england tehran iran\n",
      "london england tokyo japan\n",
      "london england athens greece\n",
      "london england baghdad iraq\n",
      "london england bangkok thailand\n",
      "london england beijing china\n",
      "london england berlin germany\n",
      "london england bern switzerland\n",
      "london england cairo egypt\n",
      "london england canberra australia\n",
      "london england hanoi vietnam\n",
      "london england havana cuba\n",
      "london england helsinki finland\n",
      "london england islamabad pakistan\n",
      "london england kabul afghanistan\n",
      "madrid spain moscow russia\n",
      "madrid spain oslo norway\n",
      "madrid spain ottawa canada\n",
      "madrid spain paris france\n",
      "madrid spain rome italy\n",
      "madrid spain stockholm sweden\n",
      "madrid spain tehran iran\n",
      "madrid spain tokyo japan\n",
      "madrid spain athens greece\n",
      "madrid spain baghdad iraq\n",
      "madrid spain bangkok thailand\n",
      "madrid spain beijing china\n",
      "madrid spain berlin germany\n",
      "madrid spain bern switzerland\n",
      "madrid spain cairo egypt\n",
      "madrid spain canberra australia\n",
      "madrid spain hanoi vietnam\n",
      "madrid spain havana cuba\n",
      "madrid spain helsinki finland\n",
      "madrid spain islamabad pakistan\n",
      "madrid spain kabul afghanistan\n",
      "madrid spain london england\n",
      "moscow russia oslo norway\n",
      "moscow russia ottawa canada\n",
      "moscow russia paris france\n",
      "moscow russia rome italy\n",
      "moscow russia stockholm sweden\n",
      "moscow russia tehran iran\n",
      "moscow russia tokyo japan\n",
      "moscow russia athens greece\n",
      "moscow russia baghdad iraq\n",
      "moscow russia bangkok thailand\n",
      "moscow russia beijing china\n",
      "moscow russia berlin germany\n",
      "moscow russia bern switzerland\n",
      "moscow russia cairo egypt\n",
      "moscow russia canberra australia\n",
      "moscow russia hanoi vietnam\n",
      "moscow russia havana cuba\n",
      "moscow russia helsinki finland\n",
      "moscow russia islamabad pakistan\n",
      "moscow russia kabul afghanistan\n",
      "moscow russia london england\n",
      "moscow russia madrid spain\n",
      "oslo norway ottawa canada\n",
      "oslo norway paris france\n",
      "oslo norway rome italy\n",
      "oslo norway stockholm sweden\n",
      "oslo norway tehran iran\n",
      "oslo norway tokyo japan\n",
      "oslo norway athens greece\n",
      "oslo norway baghdad iraq\n",
      "oslo norway bangkok thailand\n",
      "oslo norway beijing china\n",
      "oslo norway berlin germany\n",
      "oslo norway bern switzerland\n",
      "oslo norway cairo egypt\n",
      "oslo norway canberra australia\n",
      "oslo norway hanoi vietnam\n",
      "oslo norway havana cuba\n",
      "oslo norway helsinki finland\n",
      "oslo norway islamabad pakistan\n",
      "oslo norway kabul afghanistan\n",
      "oslo norway london england\n",
      "oslo norway madrid spain\n",
      "oslo norway moscow russia\n",
      "ottawa canada paris france\n",
      "ottawa canada rome italy\n",
      "ottawa canada stockholm sweden\n",
      "ottawa canada tehran iran\n",
      "ottawa canada tokyo japan\n",
      "ottawa canada athens greece\n",
      "ottawa canada baghdad iraq\n",
      "ottawa canada bangkok thailand\n",
      "ottawa canada beijing china\n",
      "ottawa canada berlin germany\n",
      "ottawa canada bern switzerland\n",
      "ottawa canada cairo egypt\n",
      "ottawa canada canberra australia\n",
      "ottawa canada hanoi vietnam\n",
      "ottawa canada havana cuba\n",
      "ottawa canada helsinki finland\n",
      "ottawa canada islamabad pakistan\n",
      "ottawa canada kabul afghanistan\n",
      "ottawa canada london england\n",
      "ottawa canada madrid spain\n",
      "ottawa canada moscow russia\n",
      "ottawa canada oslo norway\n",
      "paris france rome italy\n",
      "paris france stockholm sweden\n",
      "paris france tehran iran\n",
      "paris france tokyo japan\n",
      "paris france athens greece\n",
      "paris france baghdad iraq\n",
      "paris france bangkok thailand\n",
      "paris france beijing china\n",
      "paris france berlin germany\n",
      "paris france bern switzerland\n",
      "paris france cairo egypt\n",
      "paris france canberra australia\n",
      "paris france hanoi vietnam\n",
      "paris france havana cuba\n",
      "paris france helsinki finland\n",
      "paris france islamabad pakistan\n",
      "paris france kabul afghanistan\n",
      "paris france london england\n",
      "paris france madrid spain\n",
      "paris france moscow russia\n",
      "paris france oslo norway\n",
      "paris france ottawa canada\n",
      "rome italy stockholm sweden\n",
      "rome italy tehran iran\n",
      "rome italy tokyo japan\n",
      "rome italy athens greece\n",
      "rome italy baghdad iraq\n",
      "rome italy bangkok thailand\n",
      "rome italy beijing china\n",
      "rome italy berlin germany\n",
      "rome italy bern switzerland\n",
      "rome italy cairo egypt\n",
      "rome italy canberra australia\n",
      "rome italy hanoi vietnam\n",
      "rome italy havana cuba\n",
      "rome italy helsinki finland\n",
      "rome italy islamabad pakistan\n",
      "rome italy kabul afghanistan\n",
      "rome italy london england\n",
      "rome italy madrid spain\n",
      "rome italy moscow russia\n",
      "rome italy oslo norway\n",
      "rome italy ottawa canada\n",
      "rome italy paris france\n",
      "stockholm sweden tehran iran\n",
      "stockholm sweden tokyo japan\n",
      "stockholm sweden athens greece\n",
      "stockholm sweden baghdad iraq\n",
      "stockholm sweden bangkok thailand\n",
      "stockholm sweden beijing china\n",
      "stockholm sweden berlin germany\n",
      "stockholm sweden bern switzerland\n",
      "stockholm sweden cairo egypt\n",
      "stockholm sweden canberra australia\n",
      "stockholm sweden hanoi vietnam\n",
      "stockholm sweden havana cuba\n",
      "stockholm sweden helsinki finland\n",
      "stockholm sweden islamabad pakistan\n",
      "stockholm sweden kabul afghanistan\n",
      "stockholm sweden london england\n",
      "stockholm sweden madrid spain\n",
      "stockholm sweden moscow russia\n",
      "stockholm sweden oslo norway\n",
      "stockholm sweden ottawa canada\n",
      "stockholm sweden paris france\n",
      "stockholm sweden rome italy\n",
      "tehran iran tokyo japan\n",
      "tehran iran athens greece\n",
      "tehran iran baghdad iraq\n",
      "tehran iran bangkok thailand\n",
      "tehran iran beijing china\n",
      "tehran iran berlin germany\n",
      "tehran iran bern switzerland\n",
      "tehran iran cairo egypt\n",
      "tehran iran canberra australia\n",
      "tehran iran hanoi vietnam\n",
      "tehran iran havana cuba\n",
      "tehran iran helsinki finland\n",
      "tehran iran islamabad pakistan\n",
      "tehran iran kabul afghanistan\n",
      "tehran iran london england\n",
      "tehran iran madrid spain\n",
      "tehran iran moscow russia\n",
      "tehran iran oslo norway\n",
      "tehran iran ottawa canada\n",
      "tehran iran paris france\n",
      "tehran iran rome italy\n",
      "tehran iran stockholm sweden\n",
      "tokyo japan athens greece\n",
      "tokyo japan baghdad iraq\n",
      "tokyo japan bangkok thailand\n",
      "tokyo japan beijing china\n",
      "tokyo japan berlin germany\n",
      "tokyo japan bern switzerland\n",
      "tokyo japan cairo egypt\n",
      "tokyo japan canberra australia\n",
      "tokyo japan hanoi vietnam\n",
      "tokyo japan havana cuba\n",
      "tokyo japan helsinki finland\n",
      "tokyo japan islamabad pakistan\n",
      "tokyo japan kabul afghanistan\n",
      "tokyo japan london england\n",
      "tokyo japan madrid spain\n",
      "tokyo japan moscow russia\n",
      "tokyo japan oslo norway\n",
      "tokyo japan ottawa canada\n",
      "tokyo japan paris france\n",
      "tokyo japan rome italy\n",
      "tokyo japan stockholm sweden\n",
      "tokyo japan tehran iran\n"
     ]
    }
   ],
   "source": [
    "# Iterate over each category in test data\n",
    "for cateogry, analogies in test_data.items():\n",
    "    correct = 0\n",
    "    total = 0\n",
    "    for analogy in analogies:\n",
    "        w1,w2,w3,w4 = analogy\n",
    "        v1,v2,v3,v4 = embeddings[[w1]], embeddings[[w2]],embeddings[[w3]],embeddings[[w4]]\n",
    "        print(w1,w2,w3,w4)"
   ]
  },
  {
   "cell_type": "code",
   "execution_count": null,
   "metadata": {},
   "outputs": [],
   "source": [
    "def run_analogy_test(embeddings: Embeddings, test_data: AnalogiesDataset, k: int = 1) -> Dict[str, float]:\n",
    "    \"\"\"\n",
    "    Runs the 3CosAdd test for a set of embeddings and analogy questions.\n",
    "\n",
    "    :param embeddings: The embeddings to be evaluated using 3CosAdd.\n",
    "    :param test_data: The set of analogies to compute accuracy.\n",
    "    :param k: The \"lenience\" for accuracy. A question is correct if the target word\n",
    "              is in the top k closest words.\n",
    "    :return: A dictionary mapping each category to its analogy accuracy.\n",
    "    \"\"\"\n",
    "    analogy_dict = {}\n",
    "\n",
    "    # Iterate over each category in test data\n",
    "    for category, analogies in test_data.items():\n",
    "        correct = 0\n",
    "        total = 0\n",
    "        for analogy in analogies:\n",
    "            w1,w2,w3,w4 = analogy\n",
    "            vecs = embeddings[[w1, w2, w3]]\n",
    "\n",
    "            # Compute vector using 3CosAdd formula\n",
    "            predicted_vector = vecs[1:2] - vecs[0:1] + vecs[2:3]\n",
    "\n",
    "            # Get closest words to the predicted vector\n",
    "            closest_words = get_closest_words(embeddings, predicted_vector, k=k)\n",
    "\n",
    "            # Check if expected word is in the top k closest words\n",
    "            if w4 in closest_words[0]:\n",
    "                correct += 1\n",
    "            total += 1\n",
    "\n",
    "        # Compute accuracy for this category\n",
    "        accuracy = correct / total\n",
    "        analogy_dict[category] = accuracy  # Store in dictionary\n",
    "\n",
    "    return analogy_dict  # Return the computed accuracy for all categories\n"
   ]
  },
  {
   "cell_type": "markdown",
   "metadata": {},
   "source": [
    "---------------"
   ]
  },
  {
   "cell_type": "code",
   "execution_count": 15,
   "metadata": {},
   "outputs": [],
   "source": [
    "from test_analogies import run_analogy_test"
   ]
  },
  {
   "cell_type": "code",
   "execution_count": 16,
   "metadata": {},
   "outputs": [
    {
     "data": {
      "text/plain": [
       "dict_keys(['capital-common-countries', 'capital-world', 'currency', 'city-in-state', 'family', 'gram1-adjective-to-adverb', 'gram2-opposite', 'gram3-comparative', 'gram4-superlative', 'gram5-present-participle', 'gram6-nationality-adjective', 'gram7-past-tense', 'gram8-plural', 'gram9-plural-verbs'])"
      ]
     },
     "execution_count": 16,
     "metadata": {},
     "output_type": "execute_result"
    }
   ],
   "source": [
    "test_data = load_analogies(\"data/analogies.txt\")\n",
    "test_data.keys()"
   ]
  },
  {
   "cell_type": "code",
   "execution_count": 17,
   "metadata": {},
   "outputs": [
    {
     "data": {
      "text/plain": [
       "{'capital-common-countries': 0.6837944664031621,\n",
       " 'capital-world': 0.5899646330680813,\n",
       " 'currency': 0.08429561200923788,\n",
       " 'city-in-state': 0.08755573571139036,\n",
       " 'family': 0.4762845849802372,\n",
       " 'gram1-adjective-to-adverb': 0.09173387096774194,\n",
       " 'gram2-opposite': 0.08866995073891626,\n",
       " 'gram3-comparative': 0.26876876876876876,\n",
       " 'gram4-superlative': 0.2531194295900178,\n",
       " 'gram5-present-participle': 0.0928030303030303,\n",
       " 'gram6-nationality-adjective': 0.8667917448405253,\n",
       " 'gram7-past-tense': 0.09358974358974359,\n",
       " 'gram8-plural': 0.25900900900900903,\n",
       " 'gram9-plural-verbs': 0.1896551724137931}"
      ]
     },
     "execution_count": 17,
     "metadata": {},
     "output_type": "execute_result"
    }
   ],
   "source": [
    "# Run the analogy test\n",
    "run_analogy_test(embeddings, test_data, k=1)"
   ]
  },
  {
   "cell_type": "markdown",
   "metadata": {},
   "source": [
    "--------"
   ]
  },
  {
   "cell_type": "code",
   "execution_count": 3,
   "metadata": {},
   "outputs": [],
   "source": [
    "embeddings_50 = Embeddings.from_file(\"data/glove_50d.txt\")\n",
    "embeddings_100 = Embeddings.from_file(\"data/glove_100d.txt\")\n",
    "embeddings_200 = Embeddings.from_file(\"data/glove_200d.txt\")"
   ]
  },
  {
   "cell_type": "code",
   "execution_count": 21,
   "metadata": {},
   "outputs": [],
   "source": [
    "results_50 = run_analogy_test(embeddings_50, test_data, k=1)\n",
    "results_100 = run_analogy_test(embeddings_100, test_data, k=1)\n",
    "results_200 = run_analogy_test(embeddings_200, test_data, k=1)"
   ]
  },
  {
   "cell_type": "code",
   "execution_count": 23,
   "metadata": {},
   "outputs": [
    {
     "data": {
      "text/plain": [
       "{'capital-common-countries': 0.6837944664031621,\n",
       " 'capital-world': 0.5899646330680813,\n",
       " 'currency': 0.08429561200923788,\n",
       " 'city-in-state': 0.08755573571139036,\n",
       " 'family': 0.4762845849802372,\n",
       " 'gram1-adjective-to-adverb': 0.09173387096774194,\n",
       " 'gram2-opposite': 0.08866995073891626,\n",
       " 'gram3-comparative': 0.26876876876876876,\n",
       " 'gram4-superlative': 0.2531194295900178,\n",
       " 'gram5-present-participle': 0.0928030303030303,\n",
       " 'gram6-nationality-adjective': 0.8667917448405253,\n",
       " 'gram7-past-tense': 0.09358974358974359,\n",
       " 'gram8-plural': 0.25900900900900903,\n",
       " 'gram9-plural-verbs': 0.1896551724137931}"
      ]
     },
     "execution_count": 23,
     "metadata": {},
     "output_type": "execute_result"
    }
   ],
   "source": [
    "results_50"
   ]
  },
  {
   "cell_type": "code",
   "execution_count": 24,
   "metadata": {},
   "outputs": [
    {
     "data": {
      "text/plain": [
       "{'capital-common-countries': 0.7905138339920948,\n",
       " 'capital-world': 0.654288240495137,\n",
       " 'currency': 0.10046189376443418,\n",
       " 'city-in-state': 0.11876773408998784,\n",
       " 'family': 0.4051383399209486,\n",
       " 'gram1-adjective-to-adverb': 0.0625,\n",
       " 'gram2-opposite': 0.07266009852216748,\n",
       " 'gram3-comparative': 0.30930930930930933,\n",
       " 'gram4-superlative': 0.2638146167557932,\n",
       " 'gram5-present-participle': 0.13446969696969696,\n",
       " 'gram6-nationality-adjective': 0.8792995622263915,\n",
       " 'gram7-past-tense': 0.1141025641025641,\n",
       " 'gram8-plural': 0.15615615615615616,\n",
       " 'gram9-plural-verbs': 0.23218390804597702}"
      ]
     },
     "execution_count": 24,
     "metadata": {},
     "output_type": "execute_result"
    }
   ],
   "source": [
    "results_100"
   ]
  },
  {
   "cell_type": "code",
   "execution_count": 25,
   "metadata": {},
   "outputs": [
    {
     "data": {
      "text/plain": [
       "{'capital-common-countries': 0.5988142292490118,\n",
       " 'capital-world': 0.46816976127320953,\n",
       " 'currency': 0.08545034642032333,\n",
       " 'city-in-state': 0.053911633563032024,\n",
       " 'family': 0.3577075098814229,\n",
       " 'gram1-adjective-to-adverb': 0.014112903225806451,\n",
       " 'gram2-opposite': 0.020935960591133004,\n",
       " 'gram3-comparative': 0.2822822822822823,\n",
       " 'gram4-superlative': 0.16399286987522282,\n",
       " 'gram5-present-participle': 0.043560606060606064,\n",
       " 'gram6-nationality-adjective': 0.8674171357098186,\n",
       " 'gram7-past-tense': 0.05961538461538462,\n",
       " 'gram8-plural': 0.048798798798798795,\n",
       " 'gram9-plural-verbs': 0.15747126436781608}"
      ]
     },
     "execution_count": 25,
     "metadata": {},
     "output_type": "execute_result"
    }
   ],
   "source": [
    "results_200"
   ]
  },
  {
   "cell_type": "code",
   "execution_count": null,
   "metadata": {},
   "outputs": [
    {
     "name": "stdout",
     "output_type": "stream",
     "text": [
      "Embedding Space Semantic   Syntactic  Overall   \n",
      "---------------------------------------------\n",
      "GloVe 50        0.384 0.245 0.295\n",
      "GloVe 100       0.414 0.247 0.307\n",
      "GloVe 200       0.313 0.184 0.230\n"
     ]
    }
   ],
   "source": [
    "def compute_average_accuracy(results):\n",
    "    semantic_categories = ['capital-common-countries', 'capital-world', 'currency', 'city-in-state', 'family']\n",
    "    syntactic_categories = ['gram1-adjective-to-adverb', 'gram2-opposite', 'gram3-comparative',\n",
    "                            'gram4-superlative', 'gram5-present-participle', 'gram6-nationality-adjective',\n",
    "                            'gram7-past-tense', 'gram8-plural', 'gram9-plural-verbs']\n",
    "\n",
    "    semantic_accuracy = sum(results[cat] for cat in semantic_categories) / len(semantic_categories)\n",
    "    syntactic_accuracy = sum(results[cat] for cat in syntactic_categories) / len(syntactic_categories)\n",
    "    overall_accuracy = sum(results.values()) / len(results)\n",
    "\n",
    "    return semantic_accuracy, syntactic_accuracy, overall_accuracy\n",
    "\n",
    "# Compute and print results\n",
    "semantic_50, syntactic_50, overall_50 = compute_average_accuracy(results_50)\n",
    "semantic_100, syntactic_100, overall_100 = compute_average_accuracy(results_100)\n",
    "semantic_200, syntactic_200, overall_200 = compute_average_accuracy(results_200)\n",
    "\n",
    "# Print results in table format\n",
    "print(f\"{'Embedding Space':<15} {'Semantic':<10} {'Syntactic':<10} {'Overall':<10}\")\n",
    "print(\"-\" * 45)\n",
    "print(f\"{'GloVe 50':<15} {semantic_50:.3f} {syntactic_50:.3f} {overall_50:.3f}\")\n",
    "print(f\"{'GloVe 100':<15} {semantic_100:.3f} {syntactic_100:.3f} {overall_100:.3f}\")\n",
    "print(f\"{'GloVe 200':<15} {semantic_200:.3f} {syntactic_200:.3f} {overall_200:.3f}\")"
   ]
  },
  {
   "cell_type": "code",
   "execution_count": 22,
   "metadata": {},
   "outputs": [],
   "source": [
    "results_50_k2 = run_analogy_test(embeddings_50, test_data, k=2)"
   ]
  },
  {
   "cell_type": "code",
   "execution_count": 27,
   "metadata": {},
   "outputs": [],
   "source": [
    "results_100_k2 = run_analogy_test(embeddings_100, test_data, k=2)"
   ]
  },
  {
   "cell_type": "code",
   "execution_count": 28,
   "metadata": {},
   "outputs": [],
   "source": [
    "results_200_k2 = run_analogy_test(embeddings_200, test_data, k=2)"
   ]
  },
  {
   "cell_type": "code",
   "execution_count": 29,
   "metadata": {},
   "outputs": [
    {
     "name": "stdout",
     "output_type": "stream",
     "text": [
      "Embedding Space Semantic   Syntactic  Overall   \n",
      "---------------------------------------------\n",
      "GloVe 50        0.560 0.504 0.524\n",
      "GloVe 100       0.634 0.628 0.630\n",
      "GloVe 200       0.658 0.634 0.642\n"
     ]
    }
   ],
   "source": [
    "# Compute and print results\n",
    "semantic_50_k2, syntactic_50_k2, overall_50_k2 = compute_average_accuracy(results_50_k2)\n",
    "semantic_100_k2, syntactic_100_k2, overall_100_k2 = compute_average_accuracy(results_100_k2)\n",
    "semantic_200_k2, syntactic_200_k2, overall_200_k2 = compute_average_accuracy(results_200_k2)\n",
    "\n",
    "# Print results in table format\n",
    "print(f\"{'Embedding Space':<15} {'Semantic':<10} {'Syntactic':<10} {'Overall':<10}\")\n",
    "print(\"-\" * 45)\n",
    "print(f\"{'GloVe 50':<15} {semantic_50_k2:.3f} {syntactic_50_k2:.3f} {overall_50_k2:.3f}\")\n",
    "print(f\"{'GloVe 100':<15} {semantic_100_k2:.3f} {syntactic_100_k2:.3f} {overall_100_k2:.3f}\")\n",
    "print(f\"{'GloVe 200':<15} {semantic_200_k2:.3f} {syntactic_200_k2:.3f} {overall_200_k2:.3f}\")"
   ]
  },
  {
   "cell_type": "code",
   "execution_count": 8,
   "metadata": {},
   "outputs": [],
   "source": [
    "custom_test_data = load_analogies(\"custom_analogies.txt\")"
   ]
  },
  {
   "cell_type": "code",
   "execution_count": 9,
   "metadata": {},
   "outputs": [],
   "source": [
    "results_50 = run_analogy_test(embeddings_50, custom_test_data, k=1)\n",
    "results_100 = run_analogy_test(embeddings_100, custom_test_data, k=1)\n",
    "results_200 = run_analogy_test(embeddings_200, custom_test_data, k=1)"
   ]
  },
  {
   "cell_type": "code",
   "execution_count": 10,
   "metadata": {},
   "outputs": [
    {
     "name": "stdout",
     "output_type": "stream",
     "text": [
      "Embedding    Accuracy  \n",
      "-------------------------\n",
      "GloVe 50     0.333     \n",
      "GloVe 100    0.333     \n",
      "GloVe 200    0.500     \n"
     ]
    }
   ],
   "source": [
    "print(f\"{'Embedding':<12} {'Accuracy':<10}\")\n",
    "print(\"-\" * 25)\n",
    "print(f\"{'GloVe 50':<12} {results_50['custom-analogies']:<10.3f}\")\n",
    "print(f\"{'GloVe 100':<12} {results_100['custom-analogies']:<10.3f}\")\n",
    "print(f\"{'GloVe 200':<12} {results_200['custom-analogies']:<10.3f}\")"
   ]
  },
  {
   "cell_type": "code",
   "execution_count": null,
   "metadata": {},
   "outputs": [],
   "source": [
    "def run_analogy_test_answers(embeddings: Embeddings, test_data: AnalogiesDataset, k: int = 1) -> Dict[str, List[str]]:\n",
    "    \"\"\"\n",
    "    Runs the 3CosAdd test and returns the predicted words for each analogy.\n",
    "\n",
    "    :param embeddings: The embeddings to be evaluated using 3CosAdd.\n",
    "    :param test_data: The set of analogies.\n",
    "    :param k: The \"lenience\" for accuracy. Returns the top-k closest words.\n",
    "    :return: A dictionary mapping each category to a list of predicted words.\n",
    "    \"\"\"\n",
    "    analogy_predictions = {}\n",
    "\n",
    "    # Iterate over each category\n",
    "    for category, analogies in test_data.items():\n",
    "        predictions = []\n",
    "\n",
    "        for analogy in analogies:\n",
    "            w1, w2, w3, gold = analogy  # Extract words\n",
    "\n",
    "            try:\n",
    "                vecs = embeddings[[w1.lower(), w2.lower(), w3.lower()]]  # Retrieve vectors\n",
    "                predicted_vector = vecs[1:2] - vecs[0:1] + vecs[2:3]  # Compute 3CosAdd\n",
    "\n",
    "                closest_word = get_closest_words(embeddings, predicted_vector, k=k)[0]  # Get closest word\n",
    "            except KeyError:\n",
    "                closest_word = \"N/A\"  # Handle missing words\n",
    "\n",
    "            predictions.append((f\"{w1} : {w2} :: {w3} : _x_\", gold, closest_word))  # Store prediction\n",
    "\n",
    "        analogy_predictions[category] = predictions  # Store all results for the category\n",
    "\n",
    "    return analogy_predictions"
   ]
  },
  {
   "cell_type": "code",
   "execution_count": 13,
   "metadata": {},
   "outputs": [],
   "source": [
    "test_data = load_analogies(\"custom_analogies.txt\")"
   ]
  },
  {
   "cell_type": "code",
   "execution_count": 14,
   "metadata": {},
   "outputs": [],
   "source": [
    "results_50 = run_analogy_test_answers(embeddings_50, test_data, k=1)\n",
    "results_100 = run_analogy_test_answers(embeddings_100, test_data, k=1)\n",
    "results_200 = run_analogy_test_answers(embeddings_200, test_data, k=1)"
   ]
  },
  {
   "cell_type": "code",
   "execution_count": 16,
   "metadata": {},
   "outputs": [
    {
     "data": {
      "text/plain": [
       "{'custom-analogies': [('france : paris :: italy : _x_', 'rome', ['rome']),\n",
       "  ('france : paris :: japan : _x_', 'tokyo', ['tokyo']),\n",
       "  ('france : paris :: florida : _x_', 'tallahassee', ['miami']),\n",
       "  ('big : bigger :: small : _x_', 'smaller', ['larger']),\n",
       "  ('big : bigger :: cold : _x_', 'colder', ['cold']),\n",
       "  ('big : bigger :: quick : _x_', 'quicker', ['quick'])]}"
      ]
     },
     "execution_count": 16,
     "metadata": {},
     "output_type": "execute_result"
    }
   ],
   "source": [
    "results_50"
   ]
  },
  {
   "cell_type": "code",
   "execution_count": 17,
   "metadata": {},
   "outputs": [
    {
     "data": {
      "text/plain": [
       "{'custom-analogies': [('france : paris :: italy : _x_', 'rome', ['rome']),\n",
       "  ('france : paris :: japan : _x_', 'tokyo', ['tokyo']),\n",
       "  ('france : paris :: florida : _x_', 'tallahassee', ['florida']),\n",
       "  ('big : bigger :: small : _x_', 'smaller', ['larger']),\n",
       "  ('big : bigger :: cold : _x_', 'colder', ['cold']),\n",
       "  ('big : bigger :: quick : _x_', 'quicker', ['quick'])]}"
      ]
     },
     "execution_count": 17,
     "metadata": {},
     "output_type": "execute_result"
    }
   ],
   "source": [
    "results_100"
   ]
  },
  {
   "cell_type": "code",
   "execution_count": 19,
   "metadata": {},
   "outputs": [
    {
     "data": {
      "text/plain": [
       "{'custom-analogies': [('france : paris :: italy : _x_', 'rome', ['rome']),\n",
       "  ('france : paris :: japan : _x_', 'tokyo', ['tokyo']),\n",
       "  ('france : paris :: florida : _x_', 'tallahassee', ['florida']),\n",
       "  ('big : bigger :: small : _x_', 'smaller', ['smaller']),\n",
       "  ('big : bigger :: cold : _x_', 'colder', ['cold']),\n",
       "  ('big : bigger :: quick : _x_', 'quicker', ['quick'])]}"
      ]
     },
     "execution_count": 19,
     "metadata": {},
     "output_type": "execute_result"
    }
   ],
   "source": [
    "results_200"
   ]
  },
  {
   "cell_type": "code",
   "execution_count": null,
   "metadata": {},
   "outputs": [],
   "source": []
  }
 ],
 "metadata": {
  "kernelspec": {
   "display_name": "Python 3",
   "language": "python",
   "name": "python3"
  },
  "language_info": {
   "codemirror_mode": {
    "name": "ipython",
    "version": 3
   },
   "file_extension": ".py",
   "mimetype": "text/x-python",
   "name": "python",
   "nbconvert_exporter": "python",
   "pygments_lexer": "ipython3",
   "version": "3.10.13"
  }
 },
 "nbformat": 4,
 "nbformat_minor": 2
}
